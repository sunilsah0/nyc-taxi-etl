# analysis.ipynb

import pandas as pd
import matplotlib.pyplot as plt

# Load cleaned dataset
df = pd.read_csv("data/clean_taxi.csv")

# Ensure datetime column is parsed
df["tpep_pickup_datetime"] = pd.to_datetime(df["tpep_pickup_datetime"])

# --- 1. Trips by pickup hour ---
df["hour"] = df["tpep_pickup_datetime"].dt.hour
hourly_trips = df.groupby("hour").size()

plt.figure(figsize=(10,6))
hourly_trips.plot(kind="bar", color="skyblue")
plt.title("🚕 Trips by Pickup Hour")
plt.xlabel("Hour of Day")
plt.ylabel("Number of Trips")
plt.show()

# --- 2. Trip distance distribution ---
plt.figure(figsize=(10,6))
df["trip_distance"].plot(kind="hist", bins=50, color="orange", edgecolor="black")
plt.title("📏 Trip Distance Distribution")
plt.xlabel("Distance (miles)")
plt.ylabel("Frequency")
plt.show()

# --- 3. Fare vs Distance ---
plt.figure(figsize=(10,6))
plt.scatter(df["trip_distance"], df["total_amount"], alpha=0.3, color="green")
plt.title("💵 Fare vs Distance")
plt.xlabel("Distance (miles)")
plt.ylabel("Total Fare ($)")
plt.xlim(0, 30)  # limit for readability
plt.ylim(0, 200)
plt.show()
