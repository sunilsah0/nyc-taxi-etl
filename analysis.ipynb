# analysis.ipynb

import pandas as pd
import matplotlib.pyplot as plt

# Load cleaned data
df = pd.read_csv("data/clean_taxi.csv")

# --- 1. Trips by pickup hour ---
df["tpep_pickup_datetime"] = pd.to_datetime(df["tpep_pickup_datetime"])
df["hour"] = df["tpep_pickup_datetime"].dt.hour
hourly = df.groupby("hour").size()

plt.figure(figsize=(10,6))
hourly.plot(kind="bar")
plt.title("Trips by Pickup Hour")
plt.xlabel("Hour of Day")
plt.ylabel("Number of Trips")
plt.show()

# --- 2. Trip distance distribution ---
plt.figure(figsize=(10,6))
df["trip_distance"].plot(kind="hist", bins=50)
plt.title("Trip Distance Distribution")
plt.xlabel("Distance (miles)")
plt.show()

# --- 3. Average fare by distance ---
plt.figure(figsize=(10,6))
df.plot.scatter(x="trip_distance", y="total_amount", alpha=0.3)
plt.title("Fare vs Distance")
plt.xlabel("Distance (miles)")
plt.ylabel("Total Fare ($)")
plt.show()
